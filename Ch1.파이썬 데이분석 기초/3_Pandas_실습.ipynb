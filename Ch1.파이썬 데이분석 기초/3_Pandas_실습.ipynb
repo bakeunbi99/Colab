{
  "nbformat": 4,
  "nbformat_minor": 0,
  "metadata": {
    "colab": {
      "name": "3_Pandas 실습.ipynb",
      "provenance": [],
      "collapsed_sections": [],
      "authorship_tag": "ABX9TyPhoKOvsHiJ4AkOj+I7nbE9",
      "include_colab_link": true
    },
    "kernelspec": {
      "name": "python3",
      "display_name": "Python 3"
    },
    "language_info": {
      "name": "python"
    }
  },
  "cells": [
    {
      "cell_type": "markdown",
      "metadata": {
        "id": "view-in-github",
        "colab_type": "text"
      },
      "source": [
        "<a href=\"https://colab.research.google.com/github/bakeunbi99/Colab/blob/main/Ch1.%ED%8C%8C%EC%9D%B4%EC%8D%AC%20%EB%8D%B0%EC%9D%B4%EB%B6%84%EC%84%9D%20%EA%B8%B0%EC%B4%88/3_Pandas_%EC%8B%A4%EC%8A%B5.ipynb\" target=\"_parent\"><img src=\"https://colab.research.google.com/assets/colab-badge.svg\" alt=\"Open In Colab\"/></a>"
      ]
    },
    {
      "cell_type": "code",
      "metadata": {
        "id": "brQhe96EJAOX"
      },
      "source": [
        "\"\"\"\n",
        "날짜 : 2021/10/18 15:45\n",
        "내용 : 파이썬 Pandas 실습하기\n",
        "\n",
        "Pandas => DataFrame\n",
        "DataFrame 은 데이터를 불러와서 만드는 것\n",
        "Pandas 라이브러리\n",
        "  - 파이썬 데이터 분석에 사용되는 DataFrame 자료구조를 지원하는 패키지\n",
        "  - DataFrame을 가공, 처리를 지원하는 패키지\n",
        "\"\"\"\n",
        "\n",
        "import pandas as pd"
      ],
      "execution_count": null,
      "outputs": []
    },
    {
      "cell_type": "code",
      "metadata": {
        "id": "_kkxYvWXJmbW"
      },
      "source": [
        "# Dataframe 생성\n",
        "df1 = pd.DataFrame([[1, 2, 3], [4, 5, 6], [7, 8, 9]])\n",
        "df1"
      ],
      "execution_count": null,
      "outputs": []
    },
    {
      "cell_type": "code",
      "metadata": {
        "id": "2osF6yseJ8C-"
      },
      "source": [
        "# 컬럼명을 갖는 Dataframe\n",
        "df2 = pd.DataFrame({'uid':['a101', 'a102', 'a103', 'a104', 'a105'],\n",
        "                    'name':['김유신', '김춘추', '장보고', '강감찬', '이순신'],\n",
        "                    'age':[25, 21, 32, 41, 52]})\n",
        "\n",
        "df2"
      ],
      "execution_count": null,
      "outputs": []
    },
    {
      "cell_type": "code",
      "metadata": {
        "id": "KU0LYk1HKh5l"
      },
      "source": [
        "# DataFrame 출력\n",
        "print(df1[0][0])\n",
        "print(df1[0][1])\n",
        "print(df1[1][2])\n",
        "print(df2['uid'][0])\n",
        "print(df2['name'][1])\n",
        "print(df2['name'][4])"
      ],
      "execution_count": null,
      "outputs": []
    },
    {
      "cell_type": "code",
      "metadata": {
        "id": "3dlX9SqmKh0G"
      },
      "source": [
        "# CSV 파일 Dataframe 불러오기\n",
        "df_exam = pd.read_csv('/content/drive/MyDrive/Colab Notebooks/file/exam.csv')\n"
      ],
      "execution_count": null,
      "outputs": []
    },
    {
      "cell_type": "code",
      "metadata": {
        "id": "TfYAFuPcNbF1"
      },
      "source": [
        "# 기본 요약 통계\n",
        "df_exam.describe()"
      ],
      "execution_count": null,
      "outputs": []
    },
    {
      "cell_type": "code",
      "metadata": {
        "id": "VF87pbKtNa6W"
      },
      "source": [
        "# 상위 5개\n",
        "df_exam.head()"
      ],
      "execution_count": null,
      "outputs": []
    },
    {
      "cell_type": "code",
      "metadata": {
        "id": "88_Bv8HINeNN"
      },
      "source": [
        "# 하위 5개\n",
        "df_exam.tail"
      ],
      "execution_count": null,
      "outputs": []
    },
    {
      "cell_type": "code",
      "metadata": {
        "id": "iggGdKgcNfHO"
      },
      "source": [
        "# Dataframe 인덱싱 (중요)\n",
        "# loc  - 컬럼명 기반 인덱싱\n",
        "df_math = df_exam.loc[:, 'math']\n",
        "print(df_math)\n",
        "\n",
        "df_r1 = df_exam.loc[1:3, :]\n",
        "print(df_r1)\n",
        "\n",
        "df_r2 = df_exam.loc[1:4, ['math', 'english']]\n",
        "print(df_r2)\n",
        "\n",
        "df_r3 = df_exam.loc[10:, ['math', 'english', 'science']]\n",
        "print(df_r3)\n",
        "\n",
        "\n",
        "# iloc - 인덱스 기반 인덱싱\n",
        "df_r4 = df_exam.iloc[1:5, 2:4]\n",
        "print(df_r4)\n",
        "\n",
        "\n"
      ],
      "execution_count": null,
      "outputs": []
    },
    {
      "cell_type": "code",
      "metadata": {
        "id": "6GeVhmSoNhGN"
      },
      "source": [
        "# 수학점수 60점 이상 출력\n",
        "df_exam[df_exam.math >= 60]"
      ],
      "execution_count": null,
      "outputs": []
    },
    {
      "cell_type": "code",
      "metadata": {
        "id": "CpoJbKceNjUn"
      },
      "source": [
        "# 수학 점수 내림차순(False), 오름차순(True)\n",
        "df_exam.sort_values(by='math', ascending=False) "
      ],
      "execution_count": null,
      "outputs": []
    },
    {
      "cell_type": "code",
      "metadata": {
        "id": "5wdtYbsuNlVD"
      },
      "source": [
        "# 영어 점수 60 ~ 70, 내림차순\n",
        "df_exam[(df_exam.english >= 60) & (df_exam.english >= 70)].sort_values(by='english', ascending=False)\n",
        "\n"
      ],
      "execution_count": null,
      "outputs": []
    },
    {
      "cell_type": "code",
      "metadata": {
        "id": "P6v9pqwoNowW"
      },
      "source": [
        "# 파생 변수\n",
        "df_exam['total'] = df_exam.math + df_exam.english + df_exam.science\n",
        "df_exam['mean'] = df_exam.total / 3\n",
        "# 리스트 안에 반복문과 조건문\n",
        "df_exam['grade'] = ['A' if m >= 90 else\n",
        "                    'B' if m >= 80 else \n",
        "                    'c' if m >= 70 else\n",
        "                    'd' if m >= 60 else 'F' for m in df_exam['mean']]\n",
        "\n",
        "df_exam\n"
      ],
      "execution_count": null,
      "outputs": []
    },
    {
      "cell_type": "code",
      "metadata": {
        "id": "5mBI2bgbUN32"
      },
      "source": [
        "# dataset이 아니라서 다음에 실습하기..\n",
        "\n",
        "# iris dataset\n",
        "# from sklearn.datasets import load_iris\n",
        "\n",
        "# df_iris = load_iris()\n",
        "# df_iris\n"
      ],
      "execution_count": null,
      "outputs": []
    }
  ]
}