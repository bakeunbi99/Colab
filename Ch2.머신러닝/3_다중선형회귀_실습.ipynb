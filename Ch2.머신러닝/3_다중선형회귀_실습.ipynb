{
  "nbformat": 4,
  "nbformat_minor": 0,
  "metadata": {
    "colab": {
      "name": "3_다중선형회귀 실습.ipynb",
      "provenance": [],
      "collapsed_sections": [],
      "authorship_tag": "ABX9TyMdoB8FzC/0kawqzfl0iZtf",
      "include_colab_link": true
    },
    "kernelspec": {
      "name": "python3",
      "display_name": "Python 3"
    },
    "language_info": {
      "name": "python"
    }
  },
  "cells": [
    {
      "cell_type": "markdown",
      "metadata": {
        "id": "view-in-github",
        "colab_type": "text"
      },
      "source": [
        "<a href=\"https://colab.research.google.com/github/bakeunbi99/Colab/blob/main/Ch2.%EB%A8%B8%EC%8B%A0%EB%9F%AC%EB%8B%9D/3_%EB%8B%A4%EC%A4%91%EC%84%A0%ED%98%95%ED%9A%8C%EA%B7%80_%EC%8B%A4%EC%8A%B5.ipynb\" target=\"_parent\"><img src=\"https://colab.research.google.com/assets/colab-badge.svg\" alt=\"Open In Colab\"/></a>"
      ]
    },
    {
      "cell_type": "code",
      "metadata": {
        "id": "27gsyRt8SPA4"
      },
      "source": [
        "\"\"\"\n",
        "날짜 : 2021/10/19 15:42\n",
        "내용 : 다중선형회귀 실습하기\n",
        "\"\"\"\n",
        "\n",
        "from sklearn.linear_model import LinearRegression"
      ],
      "execution_count": null,
      "outputs": []
    },
    {
      "cell_type": "code",
      "metadata": {
        "id": "zk3vLKYFSXfd"
      },
      "source": [
        "# 학습 데이터\n",
        "train_data = [[170, 27, 1], [155, 25, 2], [150, 34, 2], [175, 51, 1], [165, 47, 1]] # 키, 나이, 성별\n",
        "train_label = [65, 50, 45, 70, 55]"
      ],
      "execution_count": null,
      "outputs": []
    },
    {
      "cell_type": "code",
      "metadata": {
        "colab": {
          "base_uri": "https://localhost:8080/"
        },
        "id": "zlEqgbAsSyks",
        "outputId": "e5f10f6c-7830-4745-c6bd-7ee19d1c3aae"
      },
      "source": [
        "# 학습하기\n",
        "model = LinearRegression()\n",
        "model.fit(train_data, train_label)"
      ],
      "execution_count": null,
      "outputs": [
        {
          "output_type": "execute_result",
          "data": {
            "text/plain": [
              "LinearRegression(copy_X=True, fit_intercept=True, n_jobs=None, normalize=False)"
            ]
          },
          "metadata": {},
          "execution_count": 8
        }
      ]
    },
    {
      "cell_type": "code",
      "metadata": {
        "colab": {
          "base_uri": "https://localhost:8080/"
        },
        "id": "9MuiKNIYTFTk",
        "outputId": "d46641c1-8430-4798-d132-eed9b5766406"
      },
      "source": [
        "# 테스트하기\n",
        "test_data = [[160, 21, 1], [172, 35, 2], [178, 28, 2], [186, 41, 2], [154, 36, 1]]\n",
        "result = model.predict(test_data)\n",
        "result"
      ],
      "execution_count": null,
      "outputs": [
        {
          "output_type": "execute_result",
          "data": {
            "text/plain": [
              "array([50.79051383, 74.36561265, 83.23320158, 93.51185771, 41.36956522])"
            ]
          },
          "metadata": {},
          "execution_count": 9
        }
      ]
    },
    {
      "cell_type": "code",
      "metadata": {
        "id": "4vy16TDXTzY9"
      },
      "source": [
        ""
      ],
      "execution_count": null,
      "outputs": []
    }
  ]
}