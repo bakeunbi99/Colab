{
  "nbformat": 4,
  "nbformat_minor": 0,
  "metadata": {
    "colab": {
      "name": "1_선형회귀실습.ipynb",
      "provenance": [],
      "collapsed_sections": [],
      "authorship_tag": "ABX9TyPKAk2uK2/KM79mlsYf7a4E",
      "include_colab_link": true
    },
    "kernelspec": {
      "name": "python3",
      "display_name": "Python 3"
    },
    "language_info": {
      "name": "python"
    }
  },
  "cells": [
    {
      "cell_type": "markdown",
      "metadata": {
        "id": "view-in-github",
        "colab_type": "text"
      },
      "source": [
        "<a href=\"https://colab.research.google.com/github/bakeunbi99/Colab/blob/main/Ch2.%EB%A8%B8%EC%8B%A0%EB%9F%AC%EB%8B%9D/1_%EC%84%A0%ED%98%95%ED%9A%8C%EA%B7%80%EC%8B%A4%EC%8A%B5.ipynb\" target=\"_parent\"><img src=\"https://colab.research.google.com/assets/colab-badge.svg\" alt=\"Open In Colab\"/></a>"
      ]
    },
    {
      "cell_type": "code",
      "metadata": {
        "id": "IENA0yFCCsaW"
      },
      "source": [
        "\"\"\"\n",
        "날짜 : 2021/10/19 15:10\n",
        "내용 : 선형회귀 실습\n",
        "\n",
        "회귀 : 평균을 중심으로 안정적으로 유지되기 위해 평균으로 돌아가려는 경향을 띠는 성질\n",
        "회귀분석 : 연속형 변수값을 예측하는 데 사용하는 분석 기법\n",
        "\"\"\"\n",
        "\n",
        "from scipy import stats\n",
        "from sklearn.linear_model import LinearRegression"
      ],
      "execution_count": null,
      "outputs": []
    },
    {
      "cell_type": "code",
      "metadata": {
        "colab": {
          "base_uri": "https://localhost:8080/"
        },
        "id": "SZakpaKoCqNt",
        "outputId": "12123eb8-2dfe-4571-b662-d246662f64c4"
      },
      "source": [
        "# 학습 데이터\n",
        "x_data = [170, 155, 150, 175, 165] # 키\n",
        "y_data = [65, 50, 45, 70, 55]      # 몸무게\n",
        "\n",
        "# 기울기, 절편 확인하기\n",
        "slope, intercept, r, p, std = stats.linregress(x_data, y_data)\n",
        "print('기울기 : ', slope)\n",
        "print('절편 : ', intercept)"
      ],
      "execution_count": null,
      "outputs": [
        {
          "output_type": "stream",
          "name": "stdout",
          "text": [
            "기울기 :  0.9767441860465116\n",
            "절편 :  -102.20930232558138\n"
          ]
        }
      ]
    },
    {
      "cell_type": "code",
      "metadata": {
        "id": "dt3CQNzxLweT"
      },
      "source": [
        "# 학습 모델\n",
        "def model(x):\n",
        "  y = 0.9767441860465116 * x -102.20930232558138\n",
        "  return y"
      ],
      "execution_count": null,
      "outputs": []
    },
    {
      "cell_type": "code",
      "metadata": {
        "colab": {
          "base_uri": "https://localhost:8080/"
        },
        "id": "bWW90tpcMXgV",
        "outputId": "50ab2e2d-baa6-49b0-8a39-3d6702dc49e6"
      },
      "source": [
        "# 테스트하기\n",
        "test_data = [160, 172, 178, 186, 154]\n",
        "\n",
        "for i in test_data:\n",
        "    print(model(i), end=' ')"
      ],
      "execution_count": null,
      "outputs": [
        {
          "output_type": "stream",
          "name": "stdout",
          "text": [
            "54.06976744186048 65.79069767441862 71.6511627906977 79.46511627906978 48.209302325581405 "
          ]
        }
      ]
    },
    {
      "cell_type": "code",
      "metadata": {
        "colab": {
          "base_uri": "https://localhost:8080/"
        },
        "id": "afiuYGLtPxg2",
        "outputId": "d9d7af60-c475-4dda-af95-e47404403579"
      },
      "source": [
        "# 선형회귀 알고리즘을 이용한 머신러닝\n",
        "train_data = [[170], [155], [150], [175], [165]]  # 훈련 데이터\n",
        "train_label = [65, 50, 45, 70, 55] # 훈련 라벨\n",
        "\n",
        "\n",
        "# 학습하기\n",
        "model = LinearRegression()\n",
        "model.fit(train_data, train_label)"
      ],
      "execution_count": null,
      "outputs": [
        {
          "output_type": "execute_result",
          "data": {
            "text/plain": [
              "LinearRegression(copy_X=True, fit_intercept=True, n_jobs=None, normalize=False)"
            ]
          },
          "metadata": {},
          "execution_count": 13
        }
      ]
    },
    {
      "cell_type": "code",
      "metadata": {
        "colab": {
          "base_uri": "https://localhost:8080/"
        },
        "id": "qjEga28zQkUd",
        "outputId": "e287ce1e-631c-4748-86c9-3f385ad1b03e"
      },
      "source": [
        "# 테스트하기\n",
        "test_data = [[160], [172], [178], [186], [154]]\n",
        "result = model.predict(test_data)\n",
        "result"
      ],
      "execution_count": null,
      "outputs": [
        {
          "output_type": "execute_result",
          "data": {
            "text/plain": [
              "array([54.06976744, 65.79069767, 71.65116279, 79.46511628, 48.20930233])"
            ]
          },
          "metadata": {},
          "execution_count": 15
        }
      ]
    }
  ]
}