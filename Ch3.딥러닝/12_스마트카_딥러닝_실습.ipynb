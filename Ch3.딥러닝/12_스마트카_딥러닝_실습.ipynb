{
  "nbformat": 4,
  "nbformat_minor": 0,
  "metadata": {
    "colab": {
      "name": "12_스마트카 딥러닝 실습.ipynb",
      "provenance": [],
      "collapsed_sections": [],
      "mount_file_id": "1ldfi7t50XMJIDS6Tw7Z9dRhtPeCotghM",
      "authorship_tag": "ABX9TyMMRYhV6eMLYKyh50RxL7m6",
      "include_colab_link": true
    },
    "kernelspec": {
      "name": "python3",
      "display_name": "Python 3"
    },
    "language_info": {
      "name": "python"
    }
  },
  "cells": [
    {
      "cell_type": "markdown",
      "metadata": {
        "id": "view-in-github",
        "colab_type": "text"
      },
      "source": [
        "<a href=\"https://colab.research.google.com/github/bakeunbi99/Colab/blob/main/Ch3.%EB%94%A5%EB%9F%AC%EB%8B%9D/12_%EC%8A%A4%EB%A7%88%ED%8A%B8%EC%B9%B4_%EB%94%A5%EB%9F%AC%EB%8B%9D_%EC%8B%A4%EC%8A%B5.ipynb\" target=\"_parent\"><img src=\"https://colab.research.google.com/assets/colab-badge.svg\" alt=\"Open In Colab\"/></a>"
      ]
    },
    {
      "cell_type": "code",
      "metadata": {
        "id": "M5uwCSDLvbY-"
      },
      "source": [
        "\"\"\"\n",
        "날짜 : 2021/11/04 16:00\n",
        "내용 : 스마트카 위험 징후 판단하기\n",
        "\"\"\"\n",
        "\n",
        "import tensorflow as tf\n",
        "import pandas as pd\n",
        "import matplotlib.pyplot as plt\n",
        "\n",
        "from time import time\n",
        "from tensorflow.python.keras.callbacks import TensorBoard\n",
        "from tensorflow import keras\n",
        "from tensorflow.keras.models import Sequential\n",
        "from tensorflow.keras.layers import Dense, Dropout\n",
        "from sklearn.preprocessing import StandardScaler\n",
        "from sklearn.model_selection import train_test_split\n",
        "from sklearn.metrics import recall_score\n",
        "from tensorflow.keras.utils import to_categorical\n",
        "from keras.models import load_model\n"
      ],
      "execution_count": 4,
      "outputs": []
    },
    {
      "cell_type": "code",
      "metadata": {
        "colab": {
          "base_uri": "https://localhost:8080/",
          "height": 442
        },
        "id": "SZVvAsrBwwdJ",
        "outputId": "53cfabe9-a9d2-4328-9689-c2b0bb28f715"
      },
      "source": [
        "# 데이터 불러오기\n",
        "df = pd.read_csv('/content/drive/MyDrive/Colab Notebooks/file/CarDrivingIncidentInfo.csv')\n",
        "df"
      ],
      "execution_count": 6,
      "outputs": [
        {
          "output_type": "execute_result",
          "data": {
            "text/html": [
              "<div>\n",
              "<style scoped>\n",
              "    .dataframe tbody tr th:only-of-type {\n",
              "        vertical-align: middle;\n",
              "    }\n",
              "\n",
              "    .dataframe tbody tr th {\n",
              "        vertical-align: top;\n",
              "    }\n",
              "\n",
              "    .dataframe thead th {\n",
              "        text-align: right;\n",
              "    }\n",
              "</style>\n",
              "<table border=\"1\" class=\"dataframe\">\n",
              "  <thead>\n",
              "    <tr style=\"text-align: right;\">\n",
              "      <th></th>\n",
              "      <th>wea</th>\n",
              "      <th>temp</th>\n",
              "      <th>hum</th>\n",
              "      <th>arrCar</th>\n",
              "      <th>timeSlot</th>\n",
              "      <th>acciArea</th>\n",
              "      <th>drvCond</th>\n",
              "      <th>innCond</th>\n",
              "      <th>carSpd</th>\n",
              "      <th>steeAng</th>\n",
              "      <th>acciPos</th>\n",
              "    </tr>\n",
              "  </thead>\n",
              "  <tbody>\n",
              "    <tr>\n",
              "      <th>0</th>\n",
              "      <td>0</td>\n",
              "      <td>1</td>\n",
              "      <td>1</td>\n",
              "      <td>1</td>\n",
              "      <td>1</td>\n",
              "      <td>2</td>\n",
              "      <td>1</td>\n",
              "      <td>2</td>\n",
              "      <td>2</td>\n",
              "      <td>1</td>\n",
              "      <td>2</td>\n",
              "    </tr>\n",
              "    <tr>\n",
              "      <th>1</th>\n",
              "      <td>1</td>\n",
              "      <td>0</td>\n",
              "      <td>0</td>\n",
              "      <td>0</td>\n",
              "      <td>0</td>\n",
              "      <td>0</td>\n",
              "      <td>2</td>\n",
              "      <td>0</td>\n",
              "      <td>0</td>\n",
              "      <td>0</td>\n",
              "      <td>0</td>\n",
              "    </tr>\n",
              "    <tr>\n",
              "      <th>2</th>\n",
              "      <td>1</td>\n",
              "      <td>0</td>\n",
              "      <td>0</td>\n",
              "      <td>1</td>\n",
              "      <td>0</td>\n",
              "      <td>1</td>\n",
              "      <td>2</td>\n",
              "      <td>0</td>\n",
              "      <td>1</td>\n",
              "      <td>1</td>\n",
              "      <td>0</td>\n",
              "    </tr>\n",
              "    <tr>\n",
              "      <th>3</th>\n",
              "      <td>0</td>\n",
              "      <td>0</td>\n",
              "      <td>0</td>\n",
              "      <td>0</td>\n",
              "      <td>0</td>\n",
              "      <td>1</td>\n",
              "      <td>2</td>\n",
              "      <td>1</td>\n",
              "      <td>1</td>\n",
              "      <td>0</td>\n",
              "      <td>0</td>\n",
              "    </tr>\n",
              "    <tr>\n",
              "      <th>4</th>\n",
              "      <td>0</td>\n",
              "      <td>0</td>\n",
              "      <td>0</td>\n",
              "      <td>0</td>\n",
              "      <td>0</td>\n",
              "      <td>0</td>\n",
              "      <td>2</td>\n",
              "      <td>2</td>\n",
              "      <td>2</td>\n",
              "      <td>0</td>\n",
              "      <td>0</td>\n",
              "    </tr>\n",
              "    <tr>\n",
              "      <th>...</th>\n",
              "      <td>...</td>\n",
              "      <td>...</td>\n",
              "      <td>...</td>\n",
              "      <td>...</td>\n",
              "      <td>...</td>\n",
              "      <td>...</td>\n",
              "      <td>...</td>\n",
              "      <td>...</td>\n",
              "      <td>...</td>\n",
              "      <td>...</td>\n",
              "      <td>...</td>\n",
              "    </tr>\n",
              "    <tr>\n",
              "      <th>199995</th>\n",
              "      <td>2</td>\n",
              "      <td>0</td>\n",
              "      <td>0</td>\n",
              "      <td>1</td>\n",
              "      <td>1</td>\n",
              "      <td>2</td>\n",
              "      <td>1</td>\n",
              "      <td>1</td>\n",
              "      <td>0</td>\n",
              "      <td>0</td>\n",
              "      <td>1</td>\n",
              "    </tr>\n",
              "    <tr>\n",
              "      <th>199996</th>\n",
              "      <td>0</td>\n",
              "      <td>1</td>\n",
              "      <td>1</td>\n",
              "      <td>1</td>\n",
              "      <td>0</td>\n",
              "      <td>1</td>\n",
              "      <td>0</td>\n",
              "      <td>0</td>\n",
              "      <td>2</td>\n",
              "      <td>1</td>\n",
              "      <td>0</td>\n",
              "    </tr>\n",
              "    <tr>\n",
              "      <th>199997</th>\n",
              "      <td>1</td>\n",
              "      <td>0</td>\n",
              "      <td>2</td>\n",
              "      <td>0</td>\n",
              "      <td>1</td>\n",
              "      <td>2</td>\n",
              "      <td>2</td>\n",
              "      <td>1</td>\n",
              "      <td>2</td>\n",
              "      <td>0</td>\n",
              "      <td>2</td>\n",
              "    </tr>\n",
              "    <tr>\n",
              "      <th>199998</th>\n",
              "      <td>0</td>\n",
              "      <td>1</td>\n",
              "      <td>0</td>\n",
              "      <td>2</td>\n",
              "      <td>1</td>\n",
              "      <td>2</td>\n",
              "      <td>0</td>\n",
              "      <td>0</td>\n",
              "      <td>0</td>\n",
              "      <td>0</td>\n",
              "      <td>0</td>\n",
              "    </tr>\n",
              "    <tr>\n",
              "      <th>199999</th>\n",
              "      <td>1</td>\n",
              "      <td>0</td>\n",
              "      <td>0</td>\n",
              "      <td>1</td>\n",
              "      <td>1</td>\n",
              "      <td>1</td>\n",
              "      <td>2</td>\n",
              "      <td>2</td>\n",
              "      <td>0</td>\n",
              "      <td>0</td>\n",
              "      <td>1</td>\n",
              "    </tr>\n",
              "  </tbody>\n",
              "</table>\n",
              "<p>200000 rows × 11 columns</p>\n",
              "</div>"
            ],
            "text/plain": [
              "        wea  temp  hum  arrCar  ...  innCond  carSpd  steeAng  acciPos\n",
              "0         0     1    1       1  ...        2       2        1        2\n",
              "1         1     0    0       0  ...        0       0        0        0\n",
              "2         1     0    0       1  ...        0       1        1        0\n",
              "3         0     0    0       0  ...        1       1        0        0\n",
              "4         0     0    0       0  ...        2       2        0        0\n",
              "...     ...   ...  ...     ...  ...      ...     ...      ...      ...\n",
              "199995    2     0    0       1  ...        1       0        0        1\n",
              "199996    0     1    1       1  ...        0       2        1        0\n",
              "199997    1     0    2       0  ...        1       2        0        2\n",
              "199998    0     1    0       2  ...        0       0        0        0\n",
              "199999    1     0    0       1  ...        2       0        0        1\n",
              "\n",
              "[200000 rows x 11 columns]"
            ]
          },
          "metadata": {},
          "execution_count": 6
        }
      ]
    },
    {
      "cell_type": "code",
      "metadata": {
        "id": "JbZS5KxMxF4x"
      },
      "source": [
        "# 학습 데이터, 라벨\n",
        "df_train = df.iloc[:, :-1].values\n",
        "df_label = df.iloc[:, -1].values # 뒤에서 부터 index\n",
        "\n",
        "#X는 훈련데이터, Y는 라벨데이터\n",
        "X_train, X_test, Y_train, Y_test = train_test_split(df_train, df_label, test_size=0.2, random_state=1)\n",
        "\n",
        "Y_train = to_categorical(Y_train)\n",
        "Y_test = to_categorical(Y_test)\n",
        "\n",
        "sc = StandardScaler() # StandardScaler() 객체를 가지고 정규화 작업을 한다.\n",
        "X_train = sc.fit_transform(X_train)\n",
        "X_test = sc.fit_transform(X_test)"
      ],
      "execution_count": 9,
      "outputs": []
    },
    {
      "cell_type": "code",
      "metadata": {
        "id": "ZNQPrEBZyOlP"
      },
      "source": [
        "# 확인하기.\n",
        "# X_train\n",
        "# Y_train"
      ],
      "execution_count": 13,
      "outputs": []
    },
    {
      "cell_type": "code",
      "metadata": {
        "colab": {
          "base_uri": "https://localhost:8080/"
        },
        "id": "JiviIB88yjAJ",
        "outputId": "64208dbb-ec06-4d20-9261-a283d0ec0875"
      },
      "source": [
        "# 모델생성\n",
        "model = Sequential([\n",
        "  Dense(10, input_dim=10, activation='relu'),                    \n",
        "  Dense(20, activation='relu'),                    \n",
        "  Dropout(0.25),\n",
        "  Dense(10, activation='relu'),                    \n",
        "  Dense(3, activation='softmax')\n",
        "])\n",
        "\n",
        "model.compile(optimizer='adam', loss='categorical_crossentropy', metrics=['acc'])\n",
        "model.summary()"
      ],
      "execution_count": 15,
      "outputs": [
        {
          "output_type": "stream",
          "name": "stdout",
          "text": [
            "Model: \"sequential\"\n",
            "_________________________________________________________________\n",
            "Layer (type)                 Output Shape              Param #   \n",
            "=================================================================\n",
            "dense (Dense)                (None, 10)                110       \n",
            "_________________________________________________________________\n",
            "dense_1 (Dense)              (None, 20)                220       \n",
            "_________________________________________________________________\n",
            "dropout (Dropout)            (None, 20)                0         \n",
            "_________________________________________________________________\n",
            "dense_2 (Dense)              (None, 10)                210       \n",
            "_________________________________________________________________\n",
            "dense_3 (Dense)              (None, 3)                 33        \n",
            "=================================================================\n",
            "Total params: 573\n",
            "Trainable params: 573\n",
            "Non-trainable params: 0\n",
            "_________________________________________________________________\n"
          ]
        }
      ]
    },
    {
      "cell_type": "code",
      "metadata": {
        "colab": {
          "base_uri": "https://localhost:8080/"
        },
        "id": "ti7zB1g0zlZS",
        "outputId": "dc355131-b3fb-4599-f0af-57de9f5599bd"
      },
      "source": [
        "# 모델 학습\n",
        "model.fit(X_train, Y_train, batch_size=2000, epochs=50, validation_data=(X_test, Y_test))"
      ],
      "execution_count": 16,
      "outputs": [
        {
          "output_type": "stream",
          "name": "stdout",
          "text": [
            "Epoch 1/50\n",
            "80/80 [==============================] - 1s 6ms/step - loss: 1.0513 - acc: 0.4652 - val_loss: 0.8438 - val_acc: 0.6166\n",
            "Epoch 2/50\n",
            "80/80 [==============================] - 0s 4ms/step - loss: 0.7174 - acc: 0.6780 - val_loss: 0.5134 - val_acc: 0.7819\n",
            "Epoch 3/50\n",
            "80/80 [==============================] - 0s 4ms/step - loss: 0.4396 - acc: 0.8150 - val_loss: 0.2753 - val_acc: 0.9033\n",
            "Epoch 4/50\n",
            "80/80 [==============================] - 0s 4ms/step - loss: 0.2742 - acc: 0.8906 - val_loss: 0.1751 - val_acc: 0.9429\n",
            "Epoch 5/50\n",
            "80/80 [==============================] - 0s 5ms/step - loss: 0.1896 - acc: 0.9297 - val_loss: 0.1220 - val_acc: 0.9670\n",
            "Epoch 6/50\n",
            "80/80 [==============================] - 0s 4ms/step - loss: 0.1390 - acc: 0.9535 - val_loss: 0.0893 - val_acc: 0.9799\n",
            "Epoch 7/50\n",
            "80/80 [==============================] - 0s 4ms/step - loss: 0.1089 - acc: 0.9664 - val_loss: 0.0687 - val_acc: 0.9850\n",
            "Epoch 8/50\n",
            "80/80 [==============================] - 0s 4ms/step - loss: 0.0901 - acc: 0.9729 - val_loss: 0.0554 - val_acc: 0.9875\n",
            "Epoch 9/50\n",
            "80/80 [==============================] - 0s 5ms/step - loss: 0.0753 - acc: 0.9774 - val_loss: 0.0452 - val_acc: 0.9901\n",
            "Epoch 10/50\n",
            "80/80 [==============================] - 0s 5ms/step - loss: 0.0652 - acc: 0.9803 - val_loss: 0.0376 - val_acc: 0.9911\n",
            "Epoch 11/50\n",
            "80/80 [==============================] - 0s 4ms/step - loss: 0.0562 - acc: 0.9829 - val_loss: 0.0316 - val_acc: 0.9918\n",
            "Epoch 12/50\n",
            "80/80 [==============================] - 0s 4ms/step - loss: 0.0492 - acc: 0.9850 - val_loss: 0.0267 - val_acc: 0.9922\n",
            "Epoch 13/50\n",
            "80/80 [==============================] - 0s 4ms/step - loss: 0.0434 - acc: 0.9865 - val_loss: 0.0234 - val_acc: 0.9933\n",
            "Epoch 14/50\n",
            "80/80 [==============================] - 0s 4ms/step - loss: 0.0391 - acc: 0.9877 - val_loss: 0.0206 - val_acc: 0.9937\n",
            "Epoch 15/50\n",
            "80/80 [==============================] - 0s 5ms/step - loss: 0.0353 - acc: 0.9888 - val_loss: 0.0182 - val_acc: 0.9942\n",
            "Epoch 16/50\n",
            "80/80 [==============================] - 0s 4ms/step - loss: 0.0319 - acc: 0.9897 - val_loss: 0.0162 - val_acc: 0.9952\n",
            "Epoch 17/50\n",
            "80/80 [==============================] - 0s 4ms/step - loss: 0.0283 - acc: 0.9908 - val_loss: 0.0146 - val_acc: 0.9956\n",
            "Epoch 18/50\n",
            "80/80 [==============================] - 0s 5ms/step - loss: 0.0252 - acc: 0.9919 - val_loss: 0.0125 - val_acc: 0.9962\n",
            "Epoch 19/50\n",
            "80/80 [==============================] - 0s 5ms/step - loss: 0.0229 - acc: 0.9925 - val_loss: 0.0107 - val_acc: 0.9963\n",
            "Epoch 20/50\n",
            "80/80 [==============================] - 0s 4ms/step - loss: 0.0199 - acc: 0.9934 - val_loss: 0.0083 - val_acc: 0.9971\n",
            "Epoch 21/50\n",
            "80/80 [==============================] - 0s 5ms/step - loss: 0.0170 - acc: 0.9947 - val_loss: 0.0065 - val_acc: 0.9976\n",
            "Epoch 22/50\n",
            "80/80 [==============================] - 0s 5ms/step - loss: 0.0145 - acc: 0.9956 - val_loss: 0.0053 - val_acc: 0.9983\n",
            "Epoch 23/50\n",
            "80/80 [==============================] - 0s 4ms/step - loss: 0.0126 - acc: 0.9966 - val_loss: 0.0043 - val_acc: 0.9992\n",
            "Epoch 24/50\n",
            "80/80 [==============================] - 0s 5ms/step - loss: 0.0112 - acc: 0.9970 - val_loss: 0.0034 - val_acc: 0.9994\n",
            "Epoch 25/50\n",
            "80/80 [==============================] - 0s 5ms/step - loss: 0.0097 - acc: 0.9975 - val_loss: 0.0027 - val_acc: 0.9996\n",
            "Epoch 26/50\n",
            "80/80 [==============================] - 0s 4ms/step - loss: 0.0088 - acc: 0.9978 - val_loss: 0.0022 - val_acc: 0.9997\n",
            "Epoch 27/50\n",
            "80/80 [==============================] - 0s 5ms/step - loss: 0.0080 - acc: 0.9979 - val_loss: 0.0019 - val_acc: 0.9997\n",
            "Epoch 28/50\n",
            "80/80 [==============================] - 0s 4ms/step - loss: 0.0071 - acc: 0.9981 - val_loss: 0.0016 - val_acc: 0.9997\n",
            "Epoch 29/50\n",
            "80/80 [==============================] - 0s 4ms/step - loss: 0.0065 - acc: 0.9983 - val_loss: 0.0014 - val_acc: 0.9997\n",
            "Epoch 30/50\n",
            "80/80 [==============================] - 0s 4ms/step - loss: 0.0058 - acc: 0.9985 - val_loss: 0.0012 - val_acc: 0.9997\n",
            "Epoch 31/50\n",
            "80/80 [==============================] - 0s 4ms/step - loss: 0.0054 - acc: 0.9985 - val_loss: 0.0010 - val_acc: 0.9998\n",
            "Epoch 32/50\n",
            "80/80 [==============================] - 0s 4ms/step - loss: 0.0049 - acc: 0.9988 - val_loss: 8.2452e-04 - val_acc: 0.9998\n",
            "Epoch 33/50\n",
            "80/80 [==============================] - 0s 5ms/step - loss: 0.0045 - acc: 0.9988 - val_loss: 7.6332e-04 - val_acc: 0.9998\n",
            "Epoch 34/50\n",
            "80/80 [==============================] - 0s 4ms/step - loss: 0.0045 - acc: 0.9987 - val_loss: 6.1161e-04 - val_acc: 0.9999\n",
            "Epoch 35/50\n",
            "80/80 [==============================] - 0s 5ms/step - loss: 0.0040 - acc: 0.9989 - val_loss: 5.1287e-04 - val_acc: 0.9999\n",
            "Epoch 36/50\n",
            "80/80 [==============================] - 0s 4ms/step - loss: 0.0037 - acc: 0.9990 - val_loss: 4.5645e-04 - val_acc: 1.0000\n",
            "Epoch 37/50\n",
            "80/80 [==============================] - 0s 4ms/step - loss: 0.0035 - acc: 0.9991 - val_loss: 4.1549e-04 - val_acc: 1.0000\n",
            "Epoch 38/50\n",
            "80/80 [==============================] - 0s 4ms/step - loss: 0.0032 - acc: 0.9993 - val_loss: 3.1573e-04 - val_acc: 1.0000\n",
            "Epoch 39/50\n",
            "80/80 [==============================] - 0s 4ms/step - loss: 0.0032 - acc: 0.9991 - val_loss: 2.9938e-04 - val_acc: 1.0000\n",
            "Epoch 40/50\n",
            "80/80 [==============================] - 0s 4ms/step - loss: 0.0031 - acc: 0.9991 - val_loss: 2.2701e-04 - val_acc: 1.0000\n",
            "Epoch 41/50\n",
            "80/80 [==============================] - 0s 5ms/step - loss: 0.0028 - acc: 0.9992 - val_loss: 2.3625e-04 - val_acc: 1.0000\n",
            "Epoch 42/50\n",
            "80/80 [==============================] - 0s 5ms/step - loss: 0.0027 - acc: 0.9993 - val_loss: 2.0674e-04 - val_acc: 1.0000\n",
            "Epoch 43/50\n",
            "80/80 [==============================] - 0s 5ms/step - loss: 0.0024 - acc: 0.9993 - val_loss: 1.7670e-04 - val_acc: 1.0000\n",
            "Epoch 44/50\n",
            "80/80 [==============================] - 0s 4ms/step - loss: 0.0025 - acc: 0.9993 - val_loss: 1.9389e-04 - val_acc: 1.0000\n",
            "Epoch 45/50\n",
            "80/80 [==============================] - 0s 4ms/step - loss: 0.0028 - acc: 0.9992 - val_loss: 1.5871e-04 - val_acc: 1.0000\n",
            "Epoch 46/50\n",
            "80/80 [==============================] - 0s 4ms/step - loss: 0.0022 - acc: 0.9994 - val_loss: 1.4105e-04 - val_acc: 1.0000\n",
            "Epoch 47/50\n",
            "80/80 [==============================] - 0s 4ms/step - loss: 0.0021 - acc: 0.9994 - val_loss: 1.2468e-04 - val_acc: 1.0000\n",
            "Epoch 48/50\n",
            "80/80 [==============================] - 0s 5ms/step - loss: 0.0023 - acc: 0.9993 - val_loss: 1.1605e-04 - val_acc: 1.0000\n",
            "Epoch 49/50\n",
            "80/80 [==============================] - 0s 4ms/step - loss: 0.0021 - acc: 0.9995 - val_loss: 1.1249e-04 - val_acc: 1.0000\n",
            "Epoch 50/50\n",
            "80/80 [==============================] - 0s 4ms/step - loss: 0.0020 - acc: 0.9995 - val_loss: 1.0594e-04 - val_acc: 1.0000\n"
          ]
        },
        {
          "output_type": "execute_result",
          "data": {
            "text/plain": [
              "<keras.callbacks.History at 0x7fec680fe410>"
            ]
          },
          "metadata": {},
          "execution_count": 16
        }
      ]
    },
    {
      "cell_type": "code",
      "metadata": {
        "colab": {
          "base_uri": "https://localhost:8080/"
        },
        "id": "Ee6bACa5z_r5",
        "outputId": "f9785d2a-d012-4bb6-b92d-80d0173bc116"
      },
      "source": [
        "# 성능평가\n",
        "score = model.evaluate(X_test, Y_test, verbose=0)\n",
        "score # [오차, 정확도]"
      ],
      "execution_count": 17,
      "outputs": [
        {
          "output_type": "execute_result",
          "data": {
            "text/plain": [
              "[0.00010594421473797411, 1.0]"
            ]
          },
          "metadata": {},
          "execution_count": 17
        }
      ]
    },
    {
      "cell_type": "code",
      "metadata": {
        "id": "I_x5BwvM0JTC"
      },
      "source": [
        "# 모델저장\n",
        "model.save('/content/drive/MyDrive/Colab Notebooks/model/smartcar_model.h5')"
      ],
      "execution_count": 19,
      "outputs": []
    },
    {
      "cell_type": "code",
      "metadata": {
        "id": "E-RyVQ170h0S"
      },
      "source": [
        ""
      ],
      "execution_count": null,
      "outputs": []
    }
  ]
}