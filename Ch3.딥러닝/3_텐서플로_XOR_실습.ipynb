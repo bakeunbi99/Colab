{
  "nbformat": 4,
  "nbformat_minor": 0,
  "metadata": {
    "colab": {
      "name": "3_텐서플로 XOR 실습.ipynb",
      "provenance": [],
      "collapsed_sections": [],
      "authorship_tag": "ABX9TyPzs4kH043T5bn7qVL4rgSY",
      "include_colab_link": true
    },
    "kernelspec": {
      "name": "python3",
      "display_name": "Python 3"
    },
    "language_info": {
      "name": "python"
    },
    "accelerator": "GPU"
  },
  "cells": [
    {
      "cell_type": "markdown",
      "metadata": {
        "id": "view-in-github",
        "colab_type": "text"
      },
      "source": [
        "<a href=\"https://colab.research.google.com/github/bakeunbi99/Colab/blob/main/Ch3.%EB%94%A5%EB%9F%AC%EB%8B%9D/3_%ED%85%90%EC%84%9C%ED%94%8C%EB%A1%9C_XOR_%EC%8B%A4%EC%8A%B5.ipynb\" target=\"_parent\"><img src=\"https://colab.research.google.com/assets/colab-badge.svg\" alt=\"Open In Colab\"/></a>"
      ]
    },
    {
      "cell_type": "code",
      "metadata": {
        "id": "OiqxfYGmZ6El"
      },
      "source": [
        "\"\"\"\n",
        "날짜 : 2021/10/26 16:02\n",
        "내용 : 텐서플로 XOR 실습하기.\n",
        "\n",
        "딥러닝이란?\n",
        "  - 기존 신경망을 기반으로 2개 이상의 은닉층으로 구성된 심층 신경망\n",
        "  - 이미지나 음성, 텍스트 등 비정형 데이터에 특화됨.\n",
        "\n",
        "딥러닝 드롭아웃(Dropout)\n",
        "  - 특정 노드를 무작위로 선정하여 해당 노드를 학습에서 제외시키는 기법.\n",
        "  - 분산을 줄이고 편향을 놏여 과대적합의 위험을 줄이기 위하여.\n",
        "\"\"\"\n",
        "\n",
        "import tensorflow as tf\n",
        "import numpy as np\n",
        "from tensorflow.keras.models import Sequential\n",
        "from tensorflow.keras.layers import Dense\n",
        "from tensorflow.keras.optimizers import Adam\n",
        "from tensorflow.keras.losses import mse"
      ],
      "execution_count": 1,
      "outputs": []
    },
    {
      "cell_type": "code",
      "metadata": {
        "id": "LGrSOC6LcKml"
      },
      "source": [
        "# 학습 데이터 준비\n",
        "data = np.array([[0, 0], [0, 1], [1, 0], [1, 1]])\n",
        "label = np.array([[0], [1], [1], [0]])"
      ],
      "execution_count": 2,
      "outputs": []
    },
    {
      "cell_type": "code",
      "metadata": {
        "id": "oYd8mFDacwp1",
        "colab": {
          "base_uri": "https://localhost:8080/"
        },
        "outputId": "b1e78e76-f159-4b88-d01d-333daf7edc03"
      },
      "source": [
        "# 학습모델 설계\n",
        "model = Sequential()\n",
        "model.add(Dense(units=2, input_dim=2, activation='sigmoid'))\n",
        "model.add(Dense(units=1, activation='sigmoid'))\n",
        "\n",
        "# 모델확인\n",
        "model.summary()\n"
      ],
      "execution_count": 3,
      "outputs": [
        {
          "output_type": "stream",
          "name": "stdout",
          "text": [
            "Model: \"sequential\"\n",
            "_________________________________________________________________\n",
            "Layer (type)                 Output Shape              Param #   \n",
            "=================================================================\n",
            "dense (Dense)                (None, 2)                 6         \n",
            "_________________________________________________________________\n",
            "dense_1 (Dense)              (None, 1)                 3         \n",
            "=================================================================\n",
            "Total params: 9\n",
            "Trainable params: 9\n",
            "Non-trainable params: 0\n",
            "_________________________________________________________________\n"
          ]
        }
      ]
    },
    {
      "cell_type": "code",
      "metadata": {
        "id": "lSQQyp0Dd18U"
      },
      "source": [
        "# 모델설정\n",
        "model.compile(optimizer='Adam', loss=mse, metrics=['acc'])"
      ],
      "execution_count": 4,
      "outputs": []
    },
    {
      "cell_type": "code",
      "metadata": {
        "id": "B0H90mcHhYnL"
      },
      "source": [
        "# 학습하기\n",
        "model.fit(data, label, epochs=10000)"
      ],
      "execution_count": null,
      "outputs": []
    },
    {
      "cell_type": "code",
      "metadata": {
        "id": "OJAbGK2HeP_t",
        "colab": {
          "base_uri": "https://localhost:8080/"
        },
        "outputId": "dc0dc5fb-1fdd-4d29-e135-80c745213979"
      },
      "source": [
        "# 테스트하기\n",
        "result = model.predict([[0, 0], [1, 0], [0, 1], [1, 1]])\n",
        "result"
      ],
      "execution_count": 8,
      "outputs": [
        {
          "output_type": "execute_result",
          "data": {
            "text/plain": [
              "array([[0.03288092],\n",
              "       [0.97608644],\n",
              "       [0.49868384],\n",
              "       [0.5010333 ]], dtype=float32)"
            ]
          },
          "metadata": {},
          "execution_count": 8
        }
      ]
    },
    {
      "cell_type": "code",
      "metadata": {
        "id": "_u6WhG9hikd7"
      },
      "source": [
        ""
      ],
      "execution_count": null,
      "outputs": []
    }
  ]
}