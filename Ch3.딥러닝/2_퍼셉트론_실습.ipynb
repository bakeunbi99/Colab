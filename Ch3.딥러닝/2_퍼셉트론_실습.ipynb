{
  "nbformat": 4,
  "nbformat_minor": 0,
  "metadata": {
    "colab": {
      "name": "2_퍼셉트론 실습.ipynb",
      "provenance": [],
      "collapsed_sections": [],
      "authorship_tag": "ABX9TyNMEDbmUmN7yctVdhzrupu8",
      "include_colab_link": true
    },
    "kernelspec": {
      "name": "python3",
      "display_name": "Python 3"
    },
    "language_info": {
      "name": "python"
    }
  },
  "cells": [
    {
      "cell_type": "markdown",
      "metadata": {
        "id": "view-in-github",
        "colab_type": "text"
      },
      "source": [
        "<a href=\"https://colab.research.google.com/github/bakeunbi99/Colab/blob/main/Ch3.%EB%94%A5%EB%9F%AC%EB%8B%9D/2_%ED%8D%BC%EC%85%89%ED%8A%B8%EB%A1%A0_%EC%8B%A4%EC%8A%B5.ipynb\" target=\"_parent\"><img src=\"https://colab.research.google.com/assets/colab-badge.svg\" alt=\"Open In Colab\"/></a>"
      ]
    },
    {
      "cell_type": "code",
      "metadata": {
        "id": "ji-dHnCVUsEZ"
      },
      "source": [
        "\"\"\"\n",
        "날짜 : 2021/10/26 15:39\n",
        "내용 : 퍼셉트론 실습하기\n",
        "\"\"\"\n",
        "\n",
        "import numpy as np"
      ],
      "execution_count": 1,
      "outputs": []
    },
    {
      "cell_type": "code",
      "metadata": {
        "id": "2xR27KXFVAK5"
      },
      "source": [
        "# AND 연산 퍼셉트론 함수\n",
        "def AND(x1, x2):\n",
        "  x = np.array([x1, x2])\n",
        "  w = np.array([0.5, 0.5])\n",
        "  b = -0.7\n",
        "\n",
        "  y = np.sum(x * w) + b\n",
        "\n",
        "  if y <= 0:\n",
        "    return 0\n",
        "  else:\n",
        "    return 1\n",
        "\n",
        "\n",
        "# NAND 연산 퍼셉트론 함수\n",
        "def NAND(x1, x2):\n",
        "  x = np.array([x1, x2])\n",
        "  w = np.array([-0.5, -0.5])\n",
        "  b = 0.7\n",
        "\n",
        "  y = np.sum(x * w) + b\n",
        "\n",
        "  if y <= 0:\n",
        "    return 0\n",
        "  else:\n",
        "    return 1\n",
        "\n",
        "\n",
        "# OR 연산 퍼셉트론 함수\n",
        "def OR(x1, x2):\n",
        "  x = np.array([x1, x2])\n",
        "  w = np.array([2, 2])\n",
        "  b = -1\n",
        "\n",
        "  y = np.sum(x * w) + b\n",
        "\n",
        "  if y <= 0:\n",
        "    return 0\n",
        "  else:\n",
        "    return 1\n"
      ],
      "execution_count": 7,
      "outputs": []
    },
    {
      "cell_type": "code",
      "metadata": {
        "colab": {
          "base_uri": "https://localhost:8080/"
        },
        "id": "fMCeGZMgW82t",
        "outputId": "73aeef41-e3bf-4f63-933d-8b1b8c7e3d21"
      },
      "source": [
        "# 테스트\n",
        "print('AND')\n",
        "print('0, 0 :', AND(0, 0))\n",
        "print('0, 1 :', AND(0, 1))\n",
        "print('1, 0 :', AND(1, 0))\n",
        "print('1, 1 :', AND(1, 1))\n",
        "\n",
        "print('NAND')\n",
        "print('0, 0 :', NAND(0, 0))\n",
        "print('0, 1 :', NAND(0, 1))\n",
        "print('1, 0 :', NAND(1, 0))\n",
        "print('1, 1 :', NAND(1, 1))\n",
        "\n",
        "\n",
        "print('OR')\n",
        "print('0, 0 :', OR(0, 0))\n",
        "print('0, 1 :', OR(0, 1))\n",
        "print('1, 0 :', OR(1, 0))\n",
        "print('1, 1 :', OR(1, 1))\n"
      ],
      "execution_count": 9,
      "outputs": [
        {
          "output_type": "stream",
          "name": "stdout",
          "text": [
            "AND\n",
            "0, 0 : 0\n",
            "0, 1 : 0\n",
            "1, 0 : 0\n",
            "1, 1 : 1\n",
            "NAND\n",
            "0, 0 : 1\n",
            "0, 1 : 1\n",
            "1, 0 : 1\n",
            "1, 1 : 0\n",
            "OR\n",
            "0, 0 : 0\n",
            "0, 1 : 1\n",
            "1, 0 : 1\n",
            "1, 1 : 1\n"
          ]
        }
      ]
    },
    {
      "cell_type": "code",
      "metadata": {
        "id": "0r5HNRNRXJ6e"
      },
      "source": [
        "# XOR 퍼셉트론 함수\n",
        "def XOR(x1, x2):\n",
        "  z1 = NAND(x1, x2)\n",
        "  z2 = OR(x1, x2)\n",
        "\n",
        "  y = AND(z1, z2) # 최종 출력 값\n",
        "\n",
        "  return y\n"
      ],
      "execution_count": 11,
      "outputs": []
    },
    {
      "cell_type": "code",
      "metadata": {
        "colab": {
          "base_uri": "https://localhost:8080/"
        },
        "id": "wP5nfYp1YCkO",
        "outputId": "9124e858-9cf0-4cf0-f54e-3efd35a52a2f"
      },
      "source": [
        "# XOR 결과\n",
        "print('XOR')\n",
        "print('0, 0 : ', XOR(0, 0))\n",
        "print('0, 1 : ', XOR(0, 1))\n",
        "print('1, 0 : ', XOR(1, 0))\n",
        "print('1, 1 : ', XOR(1, 1))"
      ],
      "execution_count": 13,
      "outputs": [
        {
          "output_type": "stream",
          "name": "stdout",
          "text": [
            "XOR\n",
            "0, 0 :  0\n",
            "0, 1 :  1\n",
            "1, 0 :  1\n",
            "1, 1 :  0\n"
          ]
        }
      ]
    },
    {
      "cell_type": "code",
      "metadata": {
        "id": "5MoClHSIYMc2"
      },
      "source": [
        ""
      ],
      "execution_count": null,
      "outputs": []
    }
  ]
}