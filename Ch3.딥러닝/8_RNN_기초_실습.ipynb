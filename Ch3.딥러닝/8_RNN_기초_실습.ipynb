{
  "nbformat": 4,
  "nbformat_minor": 0,
  "metadata": {
    "colab": {
      "name": "8_RNN 기초 실습.ipynb",
      "provenance": [],
      "collapsed_sections": [],
      "authorship_tag": "ABX9TyPDUB6+oHk+BhdbWi+3cfyW",
      "include_colab_link": true
    },
    "kernelspec": {
      "name": "python3",
      "display_name": "Python 3"
    },
    "language_info": {
      "name": "python"
    }
  },
  "cells": [
    {
      "cell_type": "markdown",
      "metadata": {
        "id": "view-in-github",
        "colab_type": "text"
      },
      "source": [
        "<a href=\"https://colab.research.google.com/github/bakeunbi99/Colab/blob/main/Ch3.%EB%94%A5%EB%9F%AC%EB%8B%9D/8_RNN_%EA%B8%B0%EC%B4%88_%EC%8B%A4%EC%8A%B5.ipynb\" target=\"_parent\"><img src=\"https://colab.research.google.com/assets/colab-badge.svg\" alt=\"Open In Colab\"/></a>"
      ]
    },
    {
      "cell_type": "code",
      "metadata": {
        "id": "9HAph6QAY3KS"
      },
      "source": [
        "\"\"\"\n",
        "날짜 : 2021/10/28 14:45\n",
        "내용 : RNN 개념 실습하기\n",
        "\n",
        "RNN\n",
        "  - 시계열 또는 텍스트 데이터, 자연어 처리에 최적화된 딥러닝 모델로 순환신경망이라고 한다.\n",
        "  - 은닉층의 출력이 다시 자신의 노드(Cell) 입력으로 들어오는 셀프 루프를 추가한 구성으로\n",
        "    이전 입력 값들을 고려해서 현재 입력값의 출력값을 결정하는 딥러닝 모델이다.\n",
        "\"\"\"\n",
        "\n",
        "import tensorflow as tf\n",
        "import numpy as np\n",
        "import matplotlib.pyplot as plt\n",
        "from tensorflow.keras.layers import SimpleRNN, Flatten, Dense\n",
        "from tensorflow.keras.models import Sequential"
      ],
      "execution_count": 2,
      "outputs": []
    },
    {
      "cell_type": "code",
      "metadata": {
        "id": "wcWy47UmbyZx"
      },
      "source": [
        "# 데이터 준비\n",
        "# traffic : [1, 0, 0, 0]\n",
        "# ticket  : [0, 1, 0, 0]\n",
        "# fine    : [0, 0, 1, 0]\n",
        "# was     : [0, 0, 0, 1]\n",
        "\n",
        "data = np.array([[[1, 0, 0, 0], [0, 1, 0, 0], [0, 0, 1, 0]],\n",
        "                 [[1, 0, 0, 0], [0, 0, 0, 1], [0, 0, 1, 0]]])\n",
        "\n",
        "label = np.array([0, 1])"
      ],
      "execution_count": 5,
      "outputs": []
    },
    {
      "cell_type": "code",
      "metadata": {
        "colab": {
          "base_uri": "https://localhost:8080/"
        },
        "id": "OCsbBOrtc_V6",
        "outputId": "a994411f-a789-4d58-865d-75e108679da1"
      },
      "source": [
        "# 모델 구성하기\n",
        "model = Sequential()\n",
        "model.add(SimpleRNN(units=4, activation='sigmoid', input_shape=(3, 4))) # 은닉층:4, 활성함수:sigmoid, 3x4 (data의 3행4열)\n",
        "model.add(Dense(1, activation='sigmoid'))\n",
        "\n",
        "model.summary()"
      ],
      "execution_count": 10,
      "outputs": [
        {
          "output_type": "stream",
          "name": "stdout",
          "text": [
            "Model: \"sequential_3\"\n",
            "_________________________________________________________________\n",
            "Layer (type)                 Output Shape              Param #   \n",
            "=================================================================\n",
            "simple_rnn (SimpleRNN)       (None, 4)                 36        \n",
            "_________________________________________________________________\n",
            "dense (Dense)                (None, 1)                 5         \n",
            "=================================================================\n",
            "Total params: 41\n",
            "Trainable params: 41\n",
            "Non-trainable params: 0\n",
            "_________________________________________________________________\n"
          ]
        }
      ]
    },
    {
      "cell_type": "code",
      "metadata": {
        "id": "lLwugbMlduCq"
      },
      "source": [
        "# 모델 설정\n",
        "model.compile(optimizer='Adam', loss='mse')"
      ],
      "execution_count": 11,
      "outputs": []
    },
    {
      "cell_type": "code",
      "metadata": {
        "id": "n3RpAHtAd9ZA"
      },
      "source": [
        "# 학습하기\n",
        "model.fit(data, label, epochs=1000)"
      ],
      "execution_count": null,
      "outputs": []
    },
    {
      "cell_type": "code",
      "metadata": {
        "colab": {
          "base_uri": "https://localhost:8080/"
        },
        "id": "Dx8vfbDseNzA",
        "outputId": "07b71ce3-2789-455e-a9bd-554dc955fc33"
      },
      "source": [
        "# 테스트하기\n",
        "result = model.predict(data)\n",
        "result"
      ],
      "execution_count": 13,
      "outputs": [
        {
          "output_type": "execute_result",
          "data": {
            "text/plain": [
              "array([[0.25472468],\n",
              "       [0.6754188 ]], dtype=float32)"
            ]
          },
          "metadata": {},
          "execution_count": 13
        }
      ]
    }
  ]
}